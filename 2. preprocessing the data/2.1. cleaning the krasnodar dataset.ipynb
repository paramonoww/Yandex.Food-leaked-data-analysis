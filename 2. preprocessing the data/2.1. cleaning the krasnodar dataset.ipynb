{
 "cells": [
  {
   "cell_type": "markdown",
   "id": "d5da0886",
   "metadata": {},
   "source": [
    "# Часть 2. Предобработка датасета `Krasnodar`"
   ]
  },
  {
   "cell_type": "markdown",
   "id": "e49fc4a6",
   "metadata": {},
   "source": [
    "## Add description!!!"
   ]
  },
  {
   "cell_type": "markdown",
   "id": "bb01cd24",
   "metadata": {},
   "source": [
    "## 1. Exploring the data"
   ]
  },
  {
   "cell_type": "markdown",
   "id": "3666a324",
   "metadata": {},
   "source": [
    "#### 1.1. Импортируем нужные инструменты."
   ]
  },
  {
   "cell_type": "code",
   "execution_count": 46,
   "id": "dab7ef96",
   "metadata": {},
   "outputs": [],
   "source": [
    "import pandas as pd\n",
    "import matplotlib.pyplot as plt\n",
    "import seaborn as sns\n",
    "import numpy as np\n",
    "\n",
    "pd.set_option('display.max_columns', None)\n",
    "# displaying all the columns"
   ]
  },
  {
   "cell_type": "markdown",
   "id": "5d354f0d",
   "metadata": {},
   "source": [
    "#### 1.2. Краткий обзор данных."
   ]
  },
  {
   "cell_type": "code",
   "execution_count": 2,
   "id": "17a6b895",
   "metadata": {},
   "outputs": [],
   "source": [
    "data = pd.read_csv('krasnodar.csv', low_memory = False)"
   ]
  },
  {
   "cell_type": "code",
   "execution_count": 3,
   "id": "d9afb2cd",
   "metadata": {},
   "outputs": [
    {
     "data": {
      "text/plain": [
       "Index(['id', 'first_name', 'full_name', 'email', 'phone_number',\n",
       "       'address_city', 'address_street', 'address_house', 'address_entrance',\n",
       "       'address_floor', 'address_office', 'address_comment',\n",
       "       'location_latitude', 'location_longitude', 'amount_charged', 'user_id',\n",
       "       'user_agent', 'created_at', 'address_doorcode'],\n",
       "      dtype='object')"
      ]
     },
     "metadata": {},
     "output_type": "display_data"
    },
    {
     "data": {
      "text/plain": [
       "(164538, 19)"
      ]
     },
     "metadata": {},
     "output_type": "display_data"
    }
   ],
   "source": [
    "display(data.columns)\n",
    "display(data.shape)"
   ]
  },
  {
   "cell_type": "markdown",
   "id": "cff27b22",
   "metadata": {},
   "source": [
    "## 2. Preprocessing"
   ]
  },
  {
   "cell_type": "markdown",
   "id": "f932ec64",
   "metadata": {},
   "source": [
    "**Этапы:**\n",
    "\n",
    "1. *Обработка столбцов*\n",
    "2. *Обработка дубликатов*\n",
    "3. *Обработка пропусков*\n",
    "4. *Аномальные значения*"
   ]
  },
  {
   "cell_type": "markdown",
   "id": "8b619047",
   "metadata": {},
   "source": [
    "#### 2.1. Обработка столбцов.\n",
    "\n",
    "1. Удалим ненужные столбцы\n",
    "2. Посмотрим на типы данных в столбцах\n",
    "3. Изменим при необходимости."
   ]
  },
  {
   "cell_type": "code",
   "execution_count": 4,
   "id": "d5f292ce",
   "metadata": {},
   "outputs": [],
   "source": [
    "data = data.drop(columns = ['full_name', 'email', 'phone_number',\n",
    "                         'address_comment', 'address_doorcode', 'location_latitude',\n",
    "                         'location_longitude', 'user_id', 'first_name', 'address_house',\n",
    "                         'address_entrance', 'address_floor', 'address_office'])"
   ]
  },
  {
   "cell_type": "code",
   "execution_count": 5,
   "id": "b772ab06",
   "metadata": {},
   "outputs": [
    {
     "data": {
      "text/plain": [
       "id                 int64\n",
       "address_city      object\n",
       "address_street    object\n",
       "amount_charged     int64\n",
       "user_agent        object\n",
       "created_at        object\n",
       "dtype: object"
      ]
     },
     "execution_count": 5,
     "metadata": {},
     "output_type": "execute_result"
    }
   ],
   "source": [
    "data.dtypes"
   ]
  },
  {
   "cell_type": "markdown",
   "id": "e0b8a6ee",
   "metadata": {},
   "source": [
    "*Видим, что `created_at` дата записана в виде `object`, перенесем её в тип `datetime`*"
   ]
  },
  {
   "cell_type": "code",
   "execution_count": 6,
   "id": "a421aa31",
   "metadata": {},
   "outputs": [],
   "source": [
    "data['created_at'] = pd.to_datetime(data['created_at'])"
   ]
  },
  {
   "cell_type": "markdown",
   "id": "54ce6634",
   "metadata": {},
   "source": [
    "#### 2.2. Обработка дубликатов."
   ]
  },
  {
   "cell_type": "code",
   "execution_count": 7,
   "id": "ffe3cabc",
   "metadata": {},
   "outputs": [
    {
     "name": "stdout",
     "output_type": "stream",
     "text": [
      "There are no duplicates in the dataset.\n"
     ]
    }
   ],
   "source": [
    "amount_of_dups = data.duplicated().sum()\n",
    "\n",
    "if amount_of_dups == 0:\n",
    "    print('There are no duplicates in the dataset.')\n",
    "else:\n",
    "    print(f'There are {amount_of_dups} in the dataset.')"
   ]
  },
  {
   "cell_type": "code",
   "execution_count": 8,
   "id": "60c1de6c",
   "metadata": {
    "scrolled": false
   },
   "outputs": [
    {
     "name": "stdout",
     "output_type": "stream",
     "text": [
      "['посёлок городского типа Яблоновский', 'посёлок Берёзовый', 'посёлок Российский', 'посёлок Южный', 'коттеджный посёлок Золотой Город', 'посёлок Знаменский', 'посёлок городского типа Энем', 'посёлок Колосистый', 'посёлок городского типа Тлюстенхабль', 'посёлок Лорис', 'посёлок Индустриальный', 'посёлок Перекатный', 'коттеджный посёлок Изумрудный Город', 'коттеджный посёлок Крепость', 'посёлок Пригородный', 'посёлок Краснодарский', 'посёлок Плодородный', 'коттеджный посёлок Бавария', 'коттеджный посёлок Николино Парк', 'коттеджный посёлок Ясенево', 'коттеджный посёлок Зелёная Поляна', 'посёлок городского типа Красная Поляна', 'посёлок Лазурный', 'посёлок Новый', 'коттеджный посёлок Чёрное Море', 'посёлок Кочетинский', 'коттеджный посёлок Малиновка', 'посёлок отделения  3 СКЗНИИСиВ', 'посёлок отделения № 2 СКЗНИИСиВ', 'посёлок Прикубанский', 'коттеджный посёлок Комарово', 'посёлок Краснолит', 'посёлок отделения  2 СКЗНИИСиВ', 'посёлок отделения  4 совхоза Пашковский', 'коттеджный посёлок Виктория', 'коттеджный посёлок Близкий', 'элитный клубный посёлок Зелёный остров', 'посёлок отделения № 3 СКЗНИИСиВ', 'посёлок Янтарный', 'посёлок Победитель', 'посёлок Белозёрный', 'посёлок Дружный', 'посёлок Новая Адыгея', 'коттеджный посёлок Южная столица', 'посёлок Дружелюбный', 'посёлок городского типа Афипский']\n"
     ]
    }
   ],
   "source": [
    "print([i for i in data.address_city.unique() if 'посёлок' in i ])"
   ]
  },
  {
   "cell_type": "code",
   "execution_count": 9,
   "id": "35b0292e",
   "metadata": {},
   "outputs": [
    {
     "name": "stdout",
     "output_type": "stream",
     "text": [
      "['поселок Агроном', 'поселок Новый', 'поселок Плодородный']\n"
     ]
    }
   ],
   "source": [
    "print([i for i in data.address_city.unique() if 'поселок' in i ])"
   ]
  },
  {
   "cell_type": "markdown",
   "id": "d254a11b",
   "metadata": {},
   "source": [
    "*Видим, что есть дубликаты вида `посёлок` и `поселок`.*"
   ]
  },
  {
   "cell_type": "code",
   "execution_count": 10,
   "id": "6edd2b97",
   "metadata": {},
   "outputs": [
    {
     "name": "stdout",
     "output_type": "stream",
     "text": [
      "There are 36 lines including values from dups.\n"
     ]
    }
   ],
   "source": [
    "dups = ['поселок Агроном', 'поселок Новый', 'поселок Плодородный']\n",
    "dups_count = data.query('address_city in @dups')['id'].count()\n",
    "print(f'There are {dups_count} lines including values from dups.')\n"
   ]
  },
  {
   "cell_type": "markdown",
   "id": "13d4e7e2",
   "metadata": {},
   "source": [
    "*Всего лишь 36 строк, давайте удалим их.*\n",
    "\n",
    "*Для начала получим их индексы, а затем удалим с помощью метода `drop()`*"
   ]
  },
  {
   "cell_type": "code",
   "execution_count": 11,
   "id": "8bfa7ef3",
   "metadata": {},
   "outputs": [
    {
     "name": "stdout",
     "output_type": "stream",
     "text": [
      "Shape before dropping the rows (164538, 6).\n",
      "Shape after dropping the rows (164502, 6).\n"
     ]
    }
   ],
   "source": [
    "print(f'Shape before dropping the rows {data.shape}.')\n",
    "\n",
    "dups_index = list(data.query('address_city in @dups').index)\n",
    "\n",
    "data = data.drop(dups_index, axis = 0)\n",
    "\n",
    "print(f'Shape after dropping the rows {data.shape}.')"
   ]
  },
  {
   "cell_type": "markdown",
   "id": "3a949e10",
   "metadata": {},
   "source": [
    "#### 2.3. Обработка пропусков."
   ]
  },
  {
   "cell_type": "code",
   "execution_count": 12,
   "id": "c40c0d98",
   "metadata": {},
   "outputs": [
    {
     "data": {
      "text/plain": [
       "id                  0\n",
       "address_city        0\n",
       "address_street    186\n",
       "amount_charged      0\n",
       "user_agent          0\n",
       "created_at          0\n",
       "dtype: int64"
      ]
     },
     "execution_count": 12,
     "metadata": {},
     "output_type": "execute_result"
    }
   ],
   "source": [
    "data.isna().sum()"
   ]
  },
  {
   "cell_type": "markdown",
   "id": "2dbedb59",
   "metadata": {},
   "source": [
    "*Пропуски есть только в колонке `address_street`, давайте от них избавимся.*"
   ]
  },
  {
   "cell_type": "code",
   "execution_count": 13,
   "id": "f172b2ac",
   "metadata": {},
   "outputs": [
    {
     "name": "stdout",
     "output_type": "stream",
     "text": [
      "Shape before dropping the rows (164502, 6).\n",
      "Shape after dropping the rows (164316, 6).\n"
     ]
    }
   ],
   "source": [
    "print(f'Shape before dropping the rows {data.shape}.')\n",
    "\n",
    "data = data.dropna()\n",
    "\n",
    "print(f'Shape after dropping the rows {data.shape}.')"
   ]
  },
  {
   "cell_type": "markdown",
   "id": "b90fd22f",
   "metadata": {},
   "source": [
    "#### 2.4. Аномальные значения."
   ]
  },
  {
   "cell_type": "markdown",
   "id": "eef5db86",
   "metadata": {},
   "source": [
    "*Посмотрим, есть ли в датасете заказы с нулевой стоимостью.*"
   ]
  },
  {
   "cell_type": "code",
   "execution_count": 14,
   "id": "e6c9e8df",
   "metadata": {},
   "outputs": [
    {
     "name": "stdout",
     "output_type": "stream",
     "text": [
      "There are 36247 orders with cost equal to 0.\n",
      "Free orders - 22% of the data.\n"
     ]
    }
   ],
   "source": [
    "zero_count = data.query('amount_charged == 0')['id'].count()\n",
    "print(f'There are {zero_count} orders with cost equal to 0.')\n",
    "\n",
    "conversion = data.query('amount_charged == 0')['id'].shape[0] / data.shape[0]\n",
    "print(f'Free orders - {int(conversion * 100)}% of the data.')"
   ]
  },
  {
   "cell_type": "markdown",
   "id": "d2a369a1",
   "metadata": {},
   "source": [
    "*Пропущенные значения составляют 22% от датасета, поэтому мы не можем убрать их оттуда. Можно предположить, что это заказы за бонусы, либо ошибка системы. Давайте переместим их в отдельный датасет.* "
   ]
  },
  {
   "cell_type": "code",
   "execution_count": 15,
   "id": "d6ff434d",
   "metadata": {},
   "outputs": [],
   "source": [
    "data = data.query('amount_charged != 0')\n",
    "\n",
    "data_zero_orders = data.query('amount_charged == 0')"
   ]
  },
  {
   "cell_type": "markdown",
   "id": "b18fe043",
   "metadata": {},
   "source": [
    "*Проверим аномальные значения колонки `amount_charged`. Построим распределения `distplot` и `boxplot`.*"
   ]
  },
  {
   "cell_type": "code",
   "execution_count": 16,
   "id": "56fc99ff",
   "metadata": {},
   "outputs": [
    {
     "data": {
      "image/png": "[encoded data removed]",
      "text/plain": [
       "<Figure size 1440x504 with 1 Axes>"
      ]
     },
     "metadata": {
      "needs_background": "light"
     },
     "output_type": "display_data"
    }
   ],
   "source": [
    "plt.figure(figsize = (20,7))\n",
    "sns.set_style('darkgrid')\n",
    "\n",
    "sns.distplot(data['amount_charged'], bins = 200,  color = 'g')\n",
    "\n",
    "plt.title('Распредение суммы заказов', size = 20, style = 'italic')\n",
    "plt.xlabel('Сумма заказа, руб', size = 15, style = 'italic')\n",
    "\n",
    "plt.xticks(range(0,30001,500), size = 13)\n",
    "plt.xlim([0,4000])\n",
    "\n",
    "\n",
    "plt.show()"
   ]
  },
  {
   "cell_type": "code",
   "execution_count": 17,
   "id": "9c2eaf63",
   "metadata": {},
   "outputs": [
    {
     "data": {
      "image/png": "[encoded data removed]",
      "text/plain": [
       "<Figure size 1440x504 with 1 Axes>"
      ]
     },
     "metadata": {},
     "output_type": "display_data"
    },
    {
     "data": {
      "text/plain": [
       "count    128069\n",
       "mean       1088\n",
       "std         782\n",
       "min           1\n",
       "25%         631\n",
       "50%         899\n",
       "75%        1301\n",
       "90%        1883\n",
       "95%        2412\n",
       "99%        4014\n",
       "max       28824\n",
       "Name: amount_charged, dtype: int32"
      ]
     },
     "metadata": {},
     "output_type": "display_data"
    }
   ],
   "source": [
    "plt.figure(figsize = (20,7))\n",
    "sns.set_style('darkgrid')\n",
    "\n",
    "sns.boxplot(data['amount_charged'], palette = 'Set2')\n",
    "\n",
    "plt.title('Распредение суммы заказов', size = 20, style = 'italic')\n",
    "plt.xlabel('Сумма заказа, руб', size = 15, style = 'italic')\n",
    "\n",
    "plt.xticks(range(0,30001,500), size = 13)\n",
    "plt.xlim([0,4000])\n",
    "\n",
    "plt.show()\n",
    "\n",
    "display(data['amount_charged'].describe(percentiles = [.25, .50, .75, .90, .95, .99]).astype(int))"
   ]
  },
  {
   "cell_type": "markdown",
   "id": "98d28d34",
   "metadata": {},
   "source": [
    " *Видим, что 99% заказов делают на сумму до 4000 рублей.*\n",
    "\n",
    "*Убёрем аномальные значения из основного датасета и запишем большие заказы в отдельный датасет, быть может они нам понадобятся.*\n",
    "\n"
   ]
  },
  {
   "cell_type": "code",
   "execution_count": 18,
   "id": "794280d1",
   "metadata": {},
   "outputs": [],
   "source": [
    "data = data.query('amount_charged <= 4000')\n",
    "\n",
    "data_big_orders = data.query('amount_charged > 4000')"
   ]
  },
  {
   "cell_type": "markdown",
   "id": "3e0cf5b7",
   "metadata": {},
   "source": [
    "## 3. Категоризация данных по параметрам"
   ]
  },
  {
   "cell_type": "markdown",
   "id": "224ea630",
   "metadata": {},
   "source": [
    "**Проведем категоризацию данных, будем категоризировать по нескольким параметрам:**\n",
    "\n",
    "1. *По сумме заказа*\n",
    "2. *По времени заказа*"
   ]
  },
  {
   "cell_type": "markdown",
   "id": "191ddb88",
   "metadata": {},
   "source": [
    "#### 3.1. Сумма заказа\n",
    "*Сделаем несколько категорий:*\n",
    "\n",
    "1. Маленькие заказы - до 300р.\n",
    "2. Средние заказы - до 1000р.\n",
    "3. Большие заказы - до 2000р.\n",
    "4. Очень большие заказы - от 2000р."
   ]
  },
  {
   "cell_type": "code",
   "execution_count": 43,
   "id": "7a3c3dd3",
   "metadata": {
    "scrolled": false
   },
   "outputs": [],
   "source": [
    "def cat_amount_charged(row):\n",
    "    if row < 300:\n",
    "        return 'small'\n",
    "    elif row < 1000:\n",
    "        return 'average'\n",
    "    elif row < 2000:\n",
    "        return 'big'\n",
    "    else:\n",
    "        return 'huge'\n",
    "    return 'no_category'"
   ]
  },
  {
   "cell_type": "code",
   "execution_count": 44,
   "id": "9d21fbaf",
   "metadata": {},
   "outputs": [],
   "source": [
    "data['cost_category'] = data['amount_charged'].apply(cat_amount_charged)"
   ]
  },
  {
   "cell_type": "markdown",
   "id": "d1529cbb",
   "metadata": {},
   "source": [
    "#### 3.2. Время заказа\n",
    "*Сделаем несколько категорий:*\n",
    "\n",
    "1. Месяц заказа.\n",
    "2. День недели заказа.\n",
    "3. Час заказа."
   ]
  },
  {
   "cell_type": "code",
   "execution_count": 45,
   "id": "5139a1b3",
   "metadata": {},
   "outputs": [],
   "source": [
    "data['month_date'] = data['created_at'].dt.month\n",
    "data['day_date'] = data['created_at'].dt.day_name()\n",
    "data['hour_date'] = data['created_at'].dt.hour"
   ]
  }
 ],
 "metadata": {
  "kernelspec": {
   "display_name": "Python 3 (ipykernel)",
   "language": "python",
   "name": "python3"
  },
  "language_info": {
   "codemirror_mode": {
    "name": "ipython",
    "version": 3
   },
   "file_extension": ".py",
   "mimetype": "text/x-python",
   "name": "python",
   "nbconvert_exporter": "python",
   "pygments_lexer": "ipython3",
   "version": "3.7.8"
  }
 },
 "nbformat": 4,
 "nbformat_minor": 5
}
