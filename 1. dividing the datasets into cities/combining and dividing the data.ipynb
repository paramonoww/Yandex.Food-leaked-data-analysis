{
 "cells": [
  {
   "cell_type": "markdown",
   "id": "f20bd000",
   "metadata": {},
   "source": [
    "# Часть 1. Объединение и категоризация датасетов по городам."
   ]
  },
  {
   "cell_type": "markdown",
   "id": "9625efe8",
   "metadata": {},
   "source": [
    "**Цель** - объединить множество похожих датасетов `moscow1`, `moscow2`, `moscow3` и т.д. в один для дальнейшей удобной работы, а также разбить все датасеты по городам.\n",
    "\n",
    "**Ход работы**:\n",
    "1. Импортировать нужные инструменты, посмотреть обзорно на датасеты.\n",
    "2. Объединить уже готовые датасеты в один.\n",
    "3. Создать новые датасеты с городами, которые нам не даны в отдельном датасете."
   ]
  },
  {
   "cell_type": "markdown",
   "id": "3b72eca3",
   "metadata": {},
   "source": [
    "#### 1. Импортируем нужные инструменты."
   ]
  },
  {
   "cell_type": "code",
   "execution_count": 115,
   "id": "92996dd1",
   "metadata": {},
   "outputs": [],
   "source": [
    "import pandas as pd\n",
    "\n",
    "pd.set_option('display.max_columns', None)\n",
    "# displaying all the columns"
   ]
  },
  {
   "cell_type": "markdown",
   "id": "5e3cda07",
   "metadata": {},
   "source": [
    "#### 2. Загрузим датасеты."
   ]
  },
  {
   "cell_type": "code",
   "execution_count": 116,
   "id": "26987b21",
   "metadata": {},
   "outputs": [],
   "source": [
    "ekaterinburg = pd.read_csv('ekaterinburg.csv')\n",
    "kazan = pd.read_csv('kazan.csv')\n",
    "krasnodar = pd.read_csv('krasnodar.csv')\n",
    "\n",
    "nizhny_novgorod = pd.read_csv('nizhny_novgorod.csv')\n",
    "novosibirsk = pd.read_csv('novosibirsk.csv')\n",
    "rostov_na_donu = pd.read_csv('rostov_na_donu.csv')\n",
    "\n",
    "samara = pd.read_csv('samara.csv')\n",
    "ufa = pd.read_csv('ufa.csv')\n",
    "voronezh = pd.read_csv('voronezh.csv')"
   ]
  },
  {
   "cell_type": "code",
   "execution_count": 117,
   "id": "ff8b9662",
   "metadata": {},
   "outputs": [],
   "source": [
    "moscow1 = pd.read_csv('moscow1.csv')\n",
    "moscow2 = pd.read_csv('moscow2.csv')\n",
    "moscow3 = pd.read_csv('moscow3.csv')\n",
    "\n",
    "moscow4 = pd.read_csv('moscow4.csv')\n",
    "moscow5 = pd.read_csv('moscow5.csv')\n",
    "moscow6 = pd.read_csv('moscow6.csv')"
   ]
  },
  {
   "cell_type": "code",
   "execution_count": 118,
   "id": "a4938d02",
   "metadata": {},
   "outputs": [],
   "source": [
    "petersburg1 = pd.read_csv('petersburg1.csv')\n",
    "petersburg2 = pd.read_csv('petersburg2.csv')"
   ]
  },
  {
   "cell_type": "code",
   "execution_count": 119,
   "id": "2002989f",
   "metadata": {},
   "outputs": [],
   "source": [
    "othercities1 = pd.read_csv('othercities1.csv')\n",
    "othercities2 = pd.read_csv('othercities2.csv')\n",
    "othercities3 = pd.read_csv('othercities3.csv')\n",
    "\n",
    "othercities4 = pd.read_csv('othercities4.csv')\n",
    "othercities5 = pd.read_csv('othercities5.csv')\n",
    "\n",
    "othercities6 = pd.read_csv('othercities6.csv')\n",
    "othercities7 = pd.read_csv('othercities7.csv')"
   ]
  },
  {
   "cell_type": "markdown",
   "id": "0b96f298",
   "metadata": {},
   "source": [
    "#### 3. Объединим датасеты `moscow` в один, `other_cities` в один и `petersburg` в один."
   ]
  },
  {
   "cell_type": "code",
   "execution_count": 138,
   "id": "45964053",
   "metadata": {},
   "outputs": [],
   "source": [
    "moscow = pd.concat([moscow1, moscow2, moscow3,\n",
    "                    moscow4, moscow5, moscow6], ignore_index = True)\n",
    "\n",
    "petersburg = pd.concat([petersburg1,\n",
    "                        petersburg2], ignore_index = True)\n",
    "\n",
    "othercities = pd.concat([othercities1, othercities2, othercities3, othercities4,\n",
    "                         othercities5, othercities6, othercities6], ignore_index = True)"
   ]
  },
  {
   "cell_type": "markdown",
   "id": "170e3e92",
   "metadata": {},
   "source": [
    "#### 4. Проверим, есть ли в `othercities` информация о заказах из городов, которые уже разделены на датасеты."
   ]
  },
  {
   "cell_type": "code",
   "execution_count": 139,
   "id": "21f48d57",
   "metadata": {},
   "outputs": [],
   "source": [
    "cities = ['Москва', 'Санкт-Петербург', 'Екатеринбург',\n",
    "          'Казань', 'Краснодар', 'Нижний Новгород',\n",
    "          'Новосибирск', 'Ростов-на-Дону', 'Самара',\n",
    "          'Уфа', 'Воронеж']\n",
    "\n",
    "cities_duplicates = []\n",
    "\n",
    "for othercity in othercities['address_city'].value_counts().index:\n",
    "    for city in cities:\n",
    "        if city in othercity:\n",
    "            cities_duplicates.append(othercity)"
   ]
  },
  {
   "cell_type": "code",
   "execution_count": 140,
   "id": "62010656",
   "metadata": {},
   "outputs": [
    {
     "name": "stdout",
     "output_type": "stream",
     "text": [
      "Населенные пункты в cities_duplicates, которые уже есть в наших датасетах: 49 штук\n"
     ]
    }
   ],
   "source": [
    "print(f\"Населенные пункты в cities_duplicates, которые уже есть в наших датасетах: {len(cities_duplicates)} штук\")"
   ]
  },
  {
   "cell_type": "markdown",
   "id": "972fb78b",
   "metadata": {},
   "source": [
    "#### 5. Как видим, довольно много повторяющихся строк, поэтому вынесем все строки в отдельные датасеты, а потом склеим с уже существующими."
   ]
  },
  {
   "cell_type": "markdown",
   "id": "e2308872",
   "metadata": {},
   "source": [
    "Извлечем повторяющиеся строки в отдельный датасет с дубликатами."
   ]
  },
  {
   "cell_type": "code",
   "execution_count": 141,
   "id": "bdf68364",
   "metadata": {},
   "outputs": [],
   "source": [
    "main_dup = othercities.query('address_city in @cities_duplicates')"
   ]
  },
  {
   "cell_type": "code",
   "execution_count": 142,
   "id": "70e09a90",
   "metadata": {},
   "outputs": [
    {
     "data": {
      "text/plain": [
       "Москва                                      66809\n",
       "Москва, поселение Десеновское                 734\n",
       "Краснодарский край, городской округ Сочи      646\n",
       "Москва, поселение Десёновское                 243\n",
       "Москва, поселение Рязановское                 212\n",
       "Москва, поселение Сосенское                   191\n",
       "Москва, поселение Щаповское                   152\n",
       "Москва, поселение Внуковское                  147\n",
       "Москва, поселение Первомайское                137\n",
       "Москва, поселение Краснопахорское             105\n",
       "Name: address_city, dtype: int64"
      ]
     },
     "execution_count": 142,
     "metadata": {},
     "output_type": "execute_result"
    }
   ],
   "source": [
    "main_dup['address_city'].value_counts().head(10)"
   ]
  },
  {
   "cell_type": "markdown",
   "id": "6e0bf2c7",
   "metadata": {},
   "source": [
    "В принципе, существенную часть датасета составляет только информация с заказами из Москвы, поэтому оставим только их и присоединим к уже существующему датасету `moscow`."
   ]
  },
  {
   "cell_type": "code",
   "execution_count": 143,
   "id": "1b665ac5",
   "metadata": {},
   "outputs": [
    {
     "data": {
      "text/plain": [
       "(2865497, 19)"
      ]
     },
     "execution_count": 143,
     "metadata": {},
     "output_type": "execute_result"
    }
   ],
   "source": [
    "moscow.shape"
   ]
  },
  {
   "cell_type": "code",
   "execution_count": 144,
   "id": "fc45d16b",
   "metadata": {},
   "outputs": [],
   "source": [
    "main_dup = main_dup.query('address_city == \"Москва\"')\n",
    "moscow = pd.concat([moscow, main_dup], ignore_index = True)"
   ]
  },
  {
   "cell_type": "code",
   "execution_count": 145,
   "id": "9d983cdd",
   "metadata": {},
   "outputs": [
    {
     "data": {
      "text/plain": [
       "(2932306, 19)"
      ]
     },
     "execution_count": 145,
     "metadata": {},
     "output_type": "execute_result"
    }
   ],
   "source": [
    "moscow.shape"
   ]
  },
  {
   "cell_type": "markdown",
   "id": "f8549e51",
   "metadata": {},
   "source": [
    "#### 6. Удалим значения c Москвой из `other_cities` и посмотрим на крупные города в `other_cities`."
   ]
  },
  {
   "cell_type": "code",
   "execution_count": 155,
   "id": "3c288e52",
   "metadata": {},
   "outputs": [
    {
     "data": {
      "text/plain": [
       "(2782379, 19)"
      ]
     },
     "execution_count": 155,
     "metadata": {},
     "output_type": "execute_result"
    }
   ],
   "source": [
    "othercities = othercities[othercities['address_city'] != 'Москва']\n",
    "othercities.shape"
   ]
  },
  {
   "cell_type": "code",
   "execution_count": 174,
   "id": "918298f3",
   "metadata": {},
   "outputs": [
    {
     "name": "stdout",
     "output_type": "stream",
     "text": [
      "Тюмень 97361\n",
      "Пермь 89403\n",
      "Челябинск 87385\n",
      "Калининград 80020\n",
      "Волгоград 74401\n",
      "Сочи 69046\n",
      "Омск 67431\n",
      "Саратов 61274\n",
      "Балашиха 54440\n",
      "Красноярск 53808\n",
      "Хабаровск 52669\n"
     ]
    }
   ],
   "source": [
    "cnt = 0\n",
    "for index, value in othercities['address_city'].value_counts().items():\n",
    "    print(index, value)\n",
    "    cnt +=1\n",
    "    if cnt == 11: break"
   ]
  },
  {
   "cell_type": "markdown",
   "id": "2b3717d8",
   "metadata": {},
   "source": [
    "Возьмем ТОП10 городов и создадим для них отдельные датасеты. Балашиху не берем, её добавим в датасет с Москвой."
   ]
  },
  {
   "cell_type": "code",
   "execution_count": 183,
   "id": "34f6d6b0",
   "metadata": {},
   "outputs": [],
   "source": [
    "tumen = othercities.query('address_city == \"Тюмень\"').reset_index()\n",
    "perm = othercities.query('address_city == \"Пермь\"').reset_index()\n",
    "chelyabinsk = othercities.query('address_city == \"Челябинск\"').reset_index()\n",
    "\n",
    "kaliningrad = othercities.query('address_city == \"Калининград\"').reset_index()\n",
    "volgograd = othercities.query('address_city == \"Волгоград\"').reset_index()\n",
    "sochi = othercities.query('address_city == \"Сочи\"').reset_index()\n",
    "\n",
    "omsk = othercities.query('address_city == \"Омск\"').reset_index()\n",
    "saratov = othercities.query('address_city == \"Саратов\"').reset_index()\n",
    "krasnoyarsk = othercities.query('address_city == \"Красноярск\"').reset_index()\n",
    "habarovsk = othercities.query('address_city == \"Хабаровск\"').reset_index()"
   ]
  },
  {
   "cell_type": "code",
   "execution_count": 185,
   "id": "8ef777f1",
   "metadata": {},
   "outputs": [],
   "source": [
    "bala = othercities.query('address_city == \"Балашиха\"')"
   ]
  },
  {
   "cell_type": "code",
   "execution_count": 187,
   "id": "cf195193",
   "metadata": {},
   "outputs": [
    {
     "data": {
      "text/plain": [
       "(2932306, 19)"
      ]
     },
     "execution_count": 187,
     "metadata": {},
     "output_type": "execute_result"
    }
   ],
   "source": [
    "moscow.shape"
   ]
  },
  {
   "cell_type": "code",
   "execution_count": 188,
   "id": "65935c62",
   "metadata": {},
   "outputs": [],
   "source": [
    "moscow = pd.concat([moscow, bala])"
   ]
  },
  {
   "cell_type": "code",
   "execution_count": 191,
   "id": "d425abe5",
   "metadata": {},
   "outputs": [
    {
     "data": {
      "text/plain": [
       "(2986746, 19)"
      ]
     },
     "execution_count": 191,
     "metadata": {},
     "output_type": "execute_result"
    }
   ],
   "source": [
    "moscow.shape"
   ]
  },
  {
   "cell_type": "markdown",
   "id": "03ba6dd4",
   "metadata": {},
   "source": [
    "Удалим ТОП11 городов из `othercities`."
   ]
  },
  {
   "cell_type": "code",
   "execution_count": 193,
   "id": "37b779f6",
   "metadata": {},
   "outputs": [],
   "source": [
    "to_delete = ['Тюмень', 'Пермь', 'Челябинск', 'Калининград', 'Волгоград',\n",
    "             'Сочи', 'Омск', 'Саратов', 'Красноярск', 'Хабаровск', 'Балашиха']\n",
    "\n",
    "othercities = othercities.query('address_city not in @to_delete')"
   ]
  },
  {
   "cell_type": "markdown",
   "id": "36cabd5d",
   "metadata": {},
   "source": [
    "#### 7. Объединим новые и преобразованные датасеты в `.csv` файлы для дальнейшего использования."
   ]
  },
  {
   "cell_type": "code",
   "execution_count": 195,
   "id": "572a4d23",
   "metadata": {},
   "outputs": [],
   "source": [
    "moscow.to_csv('moscow.csv')\n",
    "petersburg.to_csv('petersburg.csv')\n",
    "\n",
    "othercities.to_csv('othercities.csv')"
   ]
  },
  {
   "cell_type": "code",
   "execution_count": 196,
   "id": "1cbc1289",
   "metadata": {},
   "outputs": [],
   "source": [
    "tumen.to_csv('tumen.csv')\n",
    "perm.to_csv('perm.csv')\n",
    "chelyabinsk.to_csv('chelyabinsk.csv')\n",
    "\n",
    "kaliningrad.to_csv('kaliningrad.csv')\n",
    "volgograd.to_csv('volgograd.csv')\n",
    "sochi.to_csv('sochi.csv')\n",
    "\n",
    "omsk.to_csv('omsk.csv')\n",
    "saratov.to_csv('saratov.csv')\n",
    "krasnoyarsk.to_csv('krasnoyarsk.csv')\n",
    "habarovsk.to_csv('habarovsk.csv')\n"
   ]
  },
  {
   "cell_type": "markdown",
   "id": "aa00c355",
   "metadata": {},
   "source": [
    "## Вывод:\n",
    "*Что было сделано:*\n",
    "\n",
    "1. Загрузили датасеты и сразу объединили их в один\n",
    "2. Проверили недочеты в othercities и добавили уже имеющиеся города в датасеты этих городов.\n",
    "3. Очистили добавленную информацию в другие датасеты из `othercities`.\n",
    "4. Взяли еще ТОП10 городов из `othercities` и раскидали их по датасетам.\n",
    "5. Объединили и провели финальную стадию, а именно эскпорт новых датасетов в формат `.csv` для дальнейшей работы"
   ]
  }
 ],
 "metadata": {
  "kernelspec": {
   "display_name": "Python 3 (ipykernel)",
   "language": "python",
   "name": "python3"
  },
  "language_info": {
   "codemirror_mode": {
    "name": "ipython",
    "version": 3
   },
   "file_extension": ".py",
   "mimetype": "text/x-python",
   "name": "python",
   "nbconvert_exporter": "python",
   "pygments_lexer": "ipython3",
   "version": "3.7.8"
  }
 },
 "nbformat": 4,
 "nbformat_minor": 5
}
